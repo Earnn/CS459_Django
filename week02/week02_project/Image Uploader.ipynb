{
 "cells": [
  {
   "cell_type": "code",
   "execution_count": 1,
   "metadata": {
    "collapsed": true
   },
   "outputs": [],
   "source": [
    "import os"
   ]
  },
  {
   "cell_type": "code",
   "execution_count": 2,
   "metadata": {
    "collapsed": false
   },
   "outputs": [
    {
     "name": "stdout",
     "output_type": "stream",
     "text": [
      "..\\materials\\bert\n"
     ]
    }
   ],
   "source": [
    "path=os.path.join('..','materials','bert')\n",
    "print path\n",
    "all_img=os.listdir(path)"
   ]
  },
  {
   "cell_type": "code",
   "execution_count": 3,
   "metadata": {
    "collapsed": false
   },
   "outputs": [
    {
     "data": {
      "text/plain": [
       "[]"
      ]
     },
     "execution_count": 3,
     "metadata": {},
     "output_type": "execute_result"
    }
   ],
   "source": [
    "Image.objects.all()"
   ]
  },
  {
   "cell_type": "code",
   "execution_count": 4,
   "metadata": {
    "collapsed": false
   },
   "outputs": [
    {
     "data": {
      "text/plain": [
       "['adidas.jpg',\n",
       " 'alice_big.jpg',\n",
       " 'alien.jpg',\n",
       " 'animals.jpg',\n",
       " 'apple.jpg',\n",
       " 'ass.jpg',\n",
       " 'bang.jpg',\n",
       " 'batman.jpg',\n",
       " 'bear.jpg',\n",
       " 'beer.jpg',\n",
       " 'blackgold_marble.jpg',\n",
       " 'black_marble.jpg',\n",
       " 'blue_1.jpg',\n",
       " 'blue_fabric.jpg',\n",
       " 'breakfast.jpg',\n",
       " 'bringit.jpg',\n",
       " 'bunny_1.jpg',\n",
       " 'burberry_1.jpg',\n",
       " 'burberry_2.png',\n",
       " 'cactus.jpg',\n",
       " 'cactus2.jpg',\n",
       " 'cat.jpg',\n",
       " 'cat_1.png',\n",
       " 'cat_2.jpg',\n",
       " 'cat_3.jpg',\n",
       " 'cat_4.jpg',\n",
       " 'chanel.jpg',\n",
       " 'christmas_1.jpg',\n",
       " 'city_8bit.png',\n",
       " 'cloud_cartoon.jpg',\n",
       " 'cloud_purple.jpg',\n",
       " 'cupcake_rainbow.jpg',\n",
       " 'dear_dot.png',\n",
       " 'dog_1.jpg',\n",
       " 'donut_pink.jpg',\n",
       " 'donut_withe.jpg',\n",
       " 'draw_1.png',\n",
       " 'draw_2.png',\n",
       " 'draw_3.png',\n",
       " 'draw_4.png',\n",
       " 'eggs.jpg',\n",
       " 'food_8bit.jpg',\n",
       " 'food_mc.jpg',\n",
       " 'forest.jpg',\n",
       " 'frenchfries.jpg',\n",
       " 'fuji.jpg',\n",
       " 'fxxk.jpg',\n",
       " 'galaxy_1.jpg',\n",
       " 'galaxy_2.png',\n",
       " 'galaxy_3.jpg',\n",
       " 'galaxy_4.jpg',\n",
       " 'galaxy_5.jpg',\n",
       " 'galaxy_6.jpg',\n",
       " 'galaxy_7.jpg',\n",
       " 'ghost_1.jpg',\n",
       " 'ghost_2.jpg',\n",
       " 'godzilla.jpg',\n",
       " 'golden_marble.jpg',\n",
       " 'grid_black.jpg',\n",
       " 'grid_yellow.jpg',\n",
       " 'he.jpg',\n",
       " 'heart_8bit.jpg',\n",
       " 'hologram_1.jpg',\n",
       " 'hologram_2.jpg',\n",
       " 'hologram_3.jpg',\n",
       " 'hologram_4.jpg',\n",
       " 'ice.jpg',\n",
       " 'icecream_mint.jpg',\n",
       " 'icecream_pink.jpg',\n",
       " 'louis-vuitton.jpg',\n",
       " 'lv.jpg',\n",
       " 'marble_black.jpg',\n",
       " 'marble_white.jpg',\n",
       " 'mickey_1.jpg',\n",
       " 'mickey_2.jpg',\n",
       " 'Mountian.jpg',\n",
       " 'nike.jpg',\n",
       " 'nutella.jpg',\n",
       " 'ocean.jpg',\n",
       " 'oreo.jpg',\n",
       " 'panda.jpg',\n",
       " 'PANTONE_pinkblue.jpg',\n",
       " 'PANTONE_purple.jpg',\n",
       " 'penguin_big.png',\n",
       " 'photothumb.db',\n",
       " 'pineapple_1.jpg',\n",
       " 'pineapple_2.jpg',\n",
       " 'pizza.jpg',\n",
       " 'plain_blue.jpg',\n",
       " 'plain_crimsonred.jpg',\n",
       " 'plain_dark.jpg',\n",
       " 'plain_darkblue.jpg',\n",
       " 'plain_iceberg.jpg',\n",
       " 'plain_mint.jpg',\n",
       " 'plain_orange.jpg',\n",
       " 'plain_pistachio.jpg',\n",
       " 'plain_purple.jpg',\n",
       " 'plain_red.jpg',\n",
       " 'plain_rosered.jpg',\n",
       " 'plain_silver.jpg',\n",
       " 'plain_white.jpg',\n",
       " 'plain_yellow.jpg',\n",
       " 'pokemon_1.jpg',\n",
       " 'pokemon_2.jpg',\n",
       " 'pokemon_3.png',\n",
       " 'pooh.jpg',\n",
       " 'popcorn.jpg',\n",
       " 'power_ranger.jpg',\n",
       " 'rawbear.jpg',\n",
       " 'rilakkuma_pink.jpg',\n",
       " 'rocket_paper.jpg',\n",
       " 'sea.jpg',\n",
       " 'sea2.png',\n",
       " 'shark_pastel.jpg',\n",
       " 'she.jpg',\n",
       " 'simpson_1.jpg',\n",
       " 'skull_blur.jpg',\n",
       " 'sky.jpg',\n",
       " 'sky2.jpg',\n",
       " 'sky_dark.jpg',\n",
       " 'smoke_blackwhite.jpg',\n",
       " 'smoke_dark.jpg',\n",
       " 'smoke_redblue.jpg',\n",
       " 'smoke_silverred.jpg',\n",
       " 'smore.jpg',\n",
       " 'smore2.jpg',\n",
       " 'snowfall.jpg',\n",
       " 'spongebob_1.jpg',\n",
       " 'spongebob_2.jpg',\n",
       " 'starbucks_brown.jpg',\n",
       " 'starbucks_pink.jpg',\n",
       " 'starwar_1.jpg',\n",
       " 'starwar_2.jpg',\n",
       " 'starwar_3.jpg',\n",
       " 'superman.jpg',\n",
       " 'supreme.jpg',\n",
       " 'sushi.jpg',\n",
       " 'taro_green.jpg',\n",
       " 'turtle_ninja.jpg',\n",
       " 'underwater.jpg',\n",
       " 'unicorn_blue.jpg',\n",
       " 'univers11.jpg.jpg',\n",
       " 'universe.jpg',\n",
       " 'universe10.jpg.jpg',\n",
       " 'universe12.jpg.jpg',\n",
       " 'universe13.jpg.jpg',\n",
       " 'universe2.jpg',\n",
       " 'universe3.jpg',\n",
       " 'universe4.jpg',\n",
       " 'universe5.jpg.jpg',\n",
       " 'universe6.jpg.jpg',\n",
       " 'universe7.jpg.jpg',\n",
       " 'universe8.jpg.jpg',\n",
       " 'universe9.jpg.jpg',\n",
       " 'wavy_blue.jpg',\n",
       " 'we.jpg',\n",
       " 'whale.jpg',\n",
       " 'white_marble2.jpg',\n",
       " 'white_marble3.jpg']"
      ]
     },
     "execution_count": 4,
     "metadata": {},
     "output_type": "execute_result"
    }
   ],
   "source": [
    "all_img"
   ]
  },
  {
   "cell_type": "code",
   "execution_count": 5,
   "metadata": {
    "collapsed": false
   },
   "outputs": [
    {
     "name": "stdout",
     "output_type": "stream",
     "text": [
      "/media/images/static_qr_code_without_logo.jpg\n",
      "/media/images/adidas.jpg\n",
      "/media/images/adidas_TL9nAkV.jpg\n",
      "/media/images/file_name\n",
      "/media/images/file_name.jpg\n",
      "/media/images/file_name_5GccSyA.jpg\n",
      "/media/images/file_name_VoWQDmx.jpg\n",
      "/media/images/galaxy_1.jpg\n",
      "/media/images/file_name_Gsbhwz9.jpg\n",
      "/media/images/file_name_nATK6VS.jpg\n",
      "/media/images/file_name_AdQtbO6.jpg\n",
      "/media/images/file_name_303K6Zr.jpg\n",
      "/media/images/file_name_K3GIpfV.jpg\n",
      "/media/images/file_name_YTVfVgv.jpg\n",
      "/media/images/file_name_CoLQnaj.jpg\n",
      "/media/images/file_name_D1UfJ8D.jpg\n",
      "/media/images/file_name_BlOxH5V.jpg\n",
      "/media/images/file_name_OqDayIK.jpg\n",
      "/media/images/file_name_pg5FRhx.jpg\n",
      "/media/images/file_name_nfHhTkC.jpg\n",
      "/media/images/file_name_cVZDoOJ.jpg\n",
      "/media/images/file_name_ZOTy8EZ.jpg\n",
      "/media/images/file_name_gOKUO14.jpg\n",
      "/media/images/file_name_E8GJ3T0.jpg\n",
      "/media/images/file_name_4rT3GE7.jpg\n",
      "/media/images/file_name_kKVU4Ug.jpg\n",
      "/media/images/file_name_QWerQ9x.jpg\n",
      "/media/images/file_name_dUlvYLx.jpg\n",
      "/media/images/file_name_7863r4C.jpg\n",
      "/media/images/file_name_IG6AVaj.jpg\n",
      "/media/images/file_name_AlURug7.jpg\n",
      "/media/images/file_name_C3aETTJ.jpg\n",
      "/media/images/file_name_sTbQOBP.jpg\n",
      "/media/images/file_name_wthuIkF.jpg\n",
      "/media/images/file_name_NvGnBKV.jpg\n",
      "/media/images/file_name_IWuUjC5.jpg\n",
      "/media/images/file_name_gVZ9upi.jpg\n",
      "/media/images/file_name_iI5ZJxp.jpg\n",
      "/media/images/file_name_85HDG2I.jpg\n",
      "/media/images/file_name_0i4ZB0q.jpg\n",
      "/media/images/file_name_2e7WqDm.jpg\n",
      "/media/images/file_name_q0xa5Qt.jpg\n",
      "/media/images/file_name_VlZQC1h.jpg\n",
      "/media/images/file_name_RB1xZ8p.jpg\n",
      "/media/images/file_name_OqKdBWJ.jpg\n",
      "/media/images/file_name_glJmKDB.jpg\n",
      "/media/images/file_name_tGucDzP.jpg\n",
      "/media/images/file_name_itls5hI.jpg\n",
      "/media/images/file_name_2bg8PK0.jpg\n",
      "/media/images/file_name_J0rIpiL.jpg\n",
      "/media/images/file_name_QCsyQ3S.jpg\n",
      "/media/images/file_name_3hEn1PL.jpg\n",
      "/media/images/file_name_BeBERRC.jpg\n",
      "/media/images/file_name_UGtiIMA.jpg\n",
      "/media/images/file_name_lsHvpyn.jpg\n",
      "/media/images/file_name_nPBIyGq.jpg\n",
      "/media/images/file_name_g573hXg.jpg\n",
      "/media/images/file_name_mtkLbkL.jpg\n",
      "/media/images/file_name_CQuAVYy.jpg\n",
      "/media/images/file_name_xOsYcGC.jpg\n",
      "/media/images/file_name_YfE94vF.jpg\n",
      "/media/images/file_name_VQfTLdq.jpg\n",
      "/media/images/file_name_GzO10Yt.jpg\n",
      "/media/images/file_name_Bg6pHJF.jpg\n",
      "/media/images/file_name_A2MeeMb.jpg\n",
      "/media/images/file_name_tjmB3b6.jpg\n",
      "/media/images/file_name_XP7PTEl.jpg\n",
      "/media/images/file_name_bM0s214.jpg\n",
      "/media/images/file_name_gg1mpdT.jpg\n",
      "/media/images/file_name_tqogIdo.jpg\n",
      "/media/images/file_name_lLueHwb.jpg\n",
      "/media/images/file_name_51ZRJIm.jpg\n",
      "/media/images/file_name_vTJ8wKC.jpg\n",
      "/media/images/file_name_iCihtOx.jpg\n",
      "/media/images/file_name_Pen6CO4.jpg\n",
      "/media/images/file_name_RLHlpg6.jpg\n",
      "/media/images/file_name_1SKAQF7.jpg\n",
      "/media/images/file_name_ubkRE53.jpg\n",
      "/media/images/file_name_StxWdTm.jpg\n",
      "/media/images/file_name_D79kl78.jpg\n",
      "/media/images/file_name_emlQ21v.jpg\n",
      "/media/images/file_name_nSpbi8J.jpg\n",
      "/media/images/file_name_V3MzAHH.jpg\n",
      "/media/images/file_name_d6OUUka.jpg\n",
      "/media/images/file_name_3WefHMs.jpg\n",
      "/media/images/file_name_KvnsPT1.jpg\n",
      "/media/images/file_name_YCMUYAD.jpg\n",
      "/media/images/file_name_dSszSTF.jpg\n",
      "/media/images/file_name_GOTMqci.jpg\n",
      "/media/images/file_name_oJ9E5gv.jpg\n",
      "/media/images/file_name_pN4iALj.jpg\n",
      "/media/images/file_name_lcrg2dI.jpg\n",
      "/media/images/file_name_jdU9TOC.jpg\n",
      "/media/images/file_name_CaGVcSO.jpg\n",
      "/media/images/file_name_D2rPiri.jpg\n",
      "/media/images/file_name_72vJv0R.jpg\n",
      "/media/images/file_name_PBiZHpi.jpg\n",
      "/media/images/file_name_BcDKUsm.jpg\n",
      "/media/images/file_name_VBvzExT.jpg\n",
      "/media/images/file_name_1olMljq.jpg\n",
      "/media/images/file_name_IAbgA8q.jpg\n",
      "/media/images/file_name_lE9UyKk.jpg\n",
      "/media/images/file_name_x0bwUti.jpg\n",
      "/media/images/file_name_TcHNZQ6.jpg\n",
      "/media/images/file_name_omQry6e.jpg\n",
      "/media/images/file_name_IGom3k3.jpg\n",
      "/media/images/file_name_z9nHuGQ.jpg\n",
      "/media/images/file_name_3boHhJi.jpg\n",
      "/media/images/file_name_HT4nckI.jpg\n",
      "/media/images/file_name_qjn4hLE.jpg\n",
      "/media/images/file_name_1bqCkBk.jpg\n",
      "/media/images/file_name_h7gzSWe.jpg\n",
      "/media/images/file_name_vIp93gY.jpg\n",
      "/media/images/file_name_4C9U3hs.jpg\n",
      "/media/images/file_name_aK30XoD.jpg\n",
      "/media/images/file_name_Z0YMiwv.jpg\n",
      "/media/images/file_name_cTpwxNI.jpg\n",
      "/media/images/file_name_WIosPSr.jpg\n",
      "/media/images/file_name_0GKAsgB.jpg\n",
      "/media/images/file_name_cRtDekH.jpg\n",
      "/media/images/file_name_xO7fsJU.jpg\n",
      "/media/images/file_name_2YHIXJH.jpg\n",
      "/media/images/file_name_JqlDvB2.jpg\n",
      "/media/images/file_name_3NYRZ3S.jpg\n",
      "/media/images/file_name_3ODY0fw.jpg\n",
      "/media/images/file_name_PPvlymt.jpg\n",
      "/media/images/file_name_QWX2cio.jpg\n",
      "/media/images/file_name_K7lq6c7.jpg\n",
      "/media/images/file_name_ACUgn0h.jpg\n",
      "/media/images/file_name_7v0GatU.jpg\n",
      "/media/images/file_name_QkaFFXE.jpg\n",
      "/media/images/file_name_OGpP4d5.jpg\n",
      "/media/images/file_name_eJuQxRx.jpg\n",
      "/media/images/file_name_YwAgcxv.jpg\n",
      "/media/images/file_name_UDPiZgf.jpg\n",
      "/media/images/file_name_pwjverW.jpg\n",
      "/media/images/file_name_YTD3D99.jpg\n",
      "/media/images/file_name_F6kqoku.jpg\n",
      "/media/images/file_name_1er5Rjc.jpg\n",
      "/media/images/file_name_puUEb53.jpg\n",
      "/media/images/file_name_AyEPuLZ.jpg\n",
      "/media/images/file_name_9ykkW3o.jpg\n",
      "/media/images/file_name_lFDMixJ.jpg\n",
      "/media/images/file_name_lWWeYGh.jpg\n",
      "/media/images/file_name_PjQrFNF.jpg\n",
      "/media/images/file_name_RjSvSk9.jpg\n",
      "/media/images/file_name_ZMoXUCw.jpg\n",
      "/media/images/file_name_F3Lhbkl.jpg\n",
      "/media/images/file_name_d7A34mM.jpg\n",
      "/media/images/file_name_rhqBSTY.jpg\n",
      "/media/images/file_name_VVHKJqQ.jpg\n",
      "/media/images/file_name_j2x6CdI.jpg\n",
      "/media/images/file_name_maNxfph.jpg\n",
      "/media/images/file_name_Ti3IfCi.jpg\n",
      "/media/images/file_name_3l1gPug.jpg\n",
      "/media/images/file_name_YmAyVP6.jpg\n",
      "/media/images/file_name_oCN4csy.jpg\n",
      "/media/images/file_name_vNkymEX.jpg\n",
      "/media/images/file_name_rKZZAUS.jpg\n",
      "/media/images/file_name_eLRSKiM.jpg\n",
      "/media/images/file_name_YOa7q4w.jpg\n",
      "/media/images/file_name_Gw7YkVb.jpg\n",
      "/media/images/file_name_ODKh5TT.jpg\n",
      "/media/images/file_name_ZogWDuD.jpg\n",
      "/media/images/file_name_b60EO22.jpg\n",
      "/media/images/file_name_uHhTrqG.jpg\n",
      "/media/images/file_name_nyS0oub.jpg\n",
      "/media/images/file_name_rpI1RH7.jpg\n",
      "/media/images/file_name_4hVdm4W.jpg\n",
      "/media/images/file_name_6a2me6f.jpg\n",
      "/media/images/file_name_7lkKoZR.jpg\n",
      "/media/images/file_name_vxFCFxX.jpg\n",
      "/media/images/file_name_AlyPfhf.jpg\n",
      "/media/images/file_name_FxlJNm1.jpg\n",
      "/media/images/file_name_b1h1eWB.jpg\n",
      "/media/images/file_name_FiX3zZI.jpg\n",
      "/media/images/file_name_krBfeSf.jpg\n",
      "/media/images/file_name_WPK4Lay.jpg\n",
      "/media/images/file_name_NvpPp7c.jpg\n",
      "/media/images/file_name_2XFiIfN.jpg\n",
      "/media/images/file_name_rA3G2x7.jpg\n",
      "/media/images/file_name_BZhS2d5.jpg\n",
      "/media/images/file_name_jmlaBIT.jpg\n",
      "/media/images/file_name_qalhOK3.jpg\n",
      "/media/images/file_name_7jsMBW0.jpg\n",
      "/media/images/file_name_bnI97jt.jpg\n",
      "/media/images/file_name_LUxDqXx.jpg\n",
      "/media/images/file_name_Y1Q4qSx.jpg\n",
      "/media/images/file_name_mTRiNmH.jpg\n",
      "/media/images/file_name_SSGRsoN.jpg\n",
      "/media/images/file_name_70Cy3um.jpg\n",
      "/media/images/file_name_65aRrWj.jpg\n",
      "/media/images/file_name_FlfOLCT.jpg\n",
      "/media/images/file_name_7qNPEqU.jpg\n",
      "/media/images/file_name_xxXU3np.jpg\n",
      "/media/images/file_name_aMkrqm1.jpg\n",
      "/media/images/file_name_JRQRqdV.jpg\n",
      "/media/images/file_name_b2eUfNE.jpg\n",
      "/media/images/file_name_88Oo1Vj.jpg\n",
      "/media/images/file_name_nBQ4Zyn.jpg\n",
      "/media/images/file_name_flkONBo.jpg\n",
      "/media/images/file_name_EAJ4Mfu.jpg\n",
      "/media/images/file_name_gc927Be.jpg\n",
      "/media/images/file_name_iDIGCRO.jpg\n",
      "/media/images/file_name_o8YPJeX.jpg\n",
      "/media/images/file_name_1sPHAvc.jpg\n",
      "/media/images/file_name_Xhr5y2k.jpg\n",
      "/media/images/file_name_kyC2Hvl.jpg\n",
      "/media/images/file_name_RvQ2aqp.jpg\n",
      "/media/images/file_name_K7ILYxv.jpg\n",
      "/media/images/file_name_NdX6XTl.jpg\n",
      "/media/images/file_name_AA012nt.jpg\n",
      "/media/images/file_name_ygQGByn.jpg\n",
      "/media/images/file_name_Oly9T0i.jpg\n",
      "/media/images/file_name_0O9K4Bc.jpg\n",
      "/media/images/file_name_Z4pV2QD.jpg\n",
      "/media/images/file_name_YLw8gdU.jpg\n",
      "/media/images/file_name_sBIAE8Y.jpg\n",
      "/media/images/file_name_2PtVlhX.jpg\n",
      "/media/images/file_name_hsiMxFE.jpg\n",
      "/media/images/file_name_QPKbm6O.jpg\n",
      "/media/images/file_name_qbLZiOs.jpg\n",
      "/media/images/file_name_k1vaf4w.jpg\n",
      "/media/images/file_name_pOes3S2.jpg\n",
      "/media/images/file_name_lUNleIH.jpg\n",
      "/media/images/file_name_7vdk4y0.jpg\n",
      "/media/images/file_name_rtocIyb.jpg\n",
      "/media/images/file_name_GVnfh8E.jpg\n",
      "/media/images/file_name_kmqT7Ys.jpg\n",
      "/media/images/file_name_FtUMbTj.jpg\n",
      "/media/images/file_name_kiaMsVt.jpg\n",
      "/media/images/file_name_SP03l8d.jpg\n",
      "/media/images/file_name_m8BnYrH.jpg\n",
      "/media/images/file_name_ZfMFRaj.jpg\n",
      "/media/images/file_name_7kEIrRo.jpg\n",
      "/media/images/file_name_j6ozTQv.jpg\n",
      "/media/images/file_name_pHgRxUZ.jpg\n",
      "/media/images/file_name_ikn0u8h.jpg\n",
      "/media/images/file_name_662IGe2.jpg\n",
      "/media/images/file_name_SX2jQBM.jpg\n",
      "/media/images/file_name_Vz7qqXj.jpg\n",
      "/media/images/file_name_0Wv3KUk.jpg\n",
      "/media/images/file_name_KHnP3PL.jpg\n",
      "/media/images/file_name_uSbhZip.jpg\n",
      "/media/images/file_name_DL068hv.jpg\n",
      "/media/images/file_name_CVmqYr9.jpg\n",
      "/media/images/file_name_bDnJuqp.jpg\n",
      "/media/images/file_name_8x2eLq8.jpg\n",
      "/media/images/file_name_OVKj6ps.jpg\n",
      "/media/images/file_name_8F7V4bF.jpg\n",
      "/media/images/file_name_WPxRC8J.jpg\n",
      "/media/images/file_name_y380axP.jpg\n",
      "/media/images/file_name_JsNvIWw.jpg\n",
      "/media/images/file_name_QxbBdl2.jpg\n",
      "/media/images/file_name_Zd2O65o.jpg\n",
      "/media/images/file_name_GCc2qUN.jpg\n",
      "/media/images/file_name_JJvzpAF.jpg\n",
      "/media/images/file_name_G3jCp34.jpg\n",
      "/media/images/file_name_9awQEZC.jpg\n",
      "/media/images/file_name_NRs4V8H.jpg\n",
      "/media/images/file_name_Sa5OyLZ.jpg\n",
      "/media/images/file_name_Ca2AhxA.jpg\n",
      "/media/images/file_name_ZHIckrr.jpg\n",
      "/media/images/file_name_CUWG9ya.jpg\n",
      "/media/images/file_name_kZYJGes.jpg\n",
      "/media/images/file_name_QGCWISE.jpg\n",
      "/media/images/file_name_aX4XJje.jpg\n",
      "/media/images/file_name_iHiRf3I.jpg\n",
      "/media/images/file_name_D74C71U.jpg\n",
      "/media/images/file_name_GDu25k4.jpg\n",
      "/media/images/file_name_Ozs9ONi.jpg\n",
      "/media/images/file_name_jaUU794.jpg\n",
      "/media/images/file_name_bJHFfrQ.jpg\n",
      "/media/images/file_name_H21LE0U.jpg\n",
      "/media/images/file_name_h3fPtyT.jpg\n",
      "/media/images/file_name_uUBDuFW.jpg\n",
      "/media/images/file_name_arQ2KvD.jpg\n",
      "/media/images/file_name_5FY7lcv.jpg\n",
      "/media/images/file_name_T4EfU64.jpg\n",
      "/media/images/file_name_Kh2wTR1.jpg\n",
      "/media/images/file_name_uSLom2r.jpg\n",
      "/media/images/file_name_6uritWv.jpg\n",
      "/media/images/file_name_BBehHhJ.jpg\n",
      "/media/images/file_name_rkk1Et6.jpg\n",
      "/media/images/file_name_gTZwi6I.jpg\n",
      "/media/images/file_name_GS6Nsp1.jpg\n",
      "/media/images/file_name_rLF5781.jpg\n",
      "/media/images/file_name_78i0tRx.jpg\n",
      "/media/images/file_name_eBLCT7Q.jpg\n",
      "/media/images/file_name_m60W5i7.jpg\n",
      "/media/images/file_name_Z3wPzJr.jpg\n",
      "/media/images/file_name_G9vVqih.jpg\n",
      "/media/images/file_name_PVQ1vEl.jpg\n",
      "/media/images/file_name_VExzODo.jpg\n",
      "/media/images/file_name_YpzLYGk.jpg\n",
      "/media/images/file_name_65glg8k.jpg\n",
      "/media/images/file_name_MXRD0zP.jpg\n",
      "/media/images/file_name_mW2HIM2.jpg\n",
      "/media/images/file_name_lhwwlqE.jpg\n",
      "/media/images/file_name_YME8k9d.jpg\n",
      "/media/images/file_name_3hBYRfo.jpg\n",
      "/media/images/file_name_ZfqILZh.jpg\n",
      "/media/images/file_name_V3KXB8Y.jpg\n",
      "/media/images/file_name_Yazn2gm.jpg\n",
      "/media/images/file_name_nC45K9O.jpg\n",
      "/media/images/file_name_hTeMbKv.jpg\n",
      "/media/images/file_name_OXZ6EGl.jpg\n",
      "/media/images/file_name_7Fxwnmb.jpg\n",
      "/media/images/file_name_Vk2NDpM.jpg\n",
      "/media/images/file_name_Xso0L7U.jpg\n",
      "/media/images/file_name_A5gDcbj.jpg\n",
      "/media/images/file_name_kmdJ9VL.jpg\n",
      "/media/images/file_name_eeM4y5u.jpg\n",
      "/media/images/file_name_ImrddPq.jpg\n",
      "/media/images/file_name_LuVDkuX.jpg\n",
      "/media/images/file_name_ZhZrILh.jpg\n",
      "/media/images/file_name_Oqs8ETg.jpg\n",
      "/media/images/file_name_uGpUt5T.jpg\n",
      "/media/images/file_name_rtjBJG8.jpg\n",
      "/media/images/file_name_3qzIiIu.jpg\n",
      "/media/images/file_name_04BVAYa.jpg\n",
      "/media/images/file_name_xvWx4Ba.jpg\n",
      "/media/images/file_name_uZqvROM.jpg\n",
      "/media/images/file_name_INwRJl1.jpg\n",
      "/media/images/file_name_k9KQgIf.jpg\n",
      "/media/images/file_name_Q6cf965.jpg\n",
      "/media/images/file_name_P5JSq4W.jpg\n",
      "/media/images/file_name_XzWB0F3.jpg\n",
      "/media/images/file_name_i3vff9F.jpg\n",
      "/media/images/file_name_L4WII3R.jpg\n",
      "/media/images/file_name_U1cesDm.jpg\n",
      "/media/images/file_name_CeCo4zq.jpg\n",
      "/media/images/file_name_ux6EIbQ.jpg\n",
      "/media/images/file_name_6ay8tu0.jpg\n"
     ]
    }
   ],
   "source": [
    "for i in Image.objects.all():\n",
    "    print i.image.url"
   ]
  },
  {
   "cell_type": "code",
   "execution_count": 5,
   "metadata": {
    "collapsed": false
   },
   "outputs": [
    {
     "name": "stdout",
     "output_type": "stream",
     "text": [
      "..\\materials\\bert\\adidas.jpg\n"
     ]
    }
   ],
   "source": [
    "fname=os.path.join(path,all_img[0])\n",
    "print fname"
   ]
  },
  {
   "cell_type": "code",
   "execution_count": 6,
   "metadata": {
    "collapsed": false
   },
   "outputs": [],
   "source": [
    "from django.core.files import File\n",
    "img=Image(description=\"some text\")\n",
    "f=File(open( fname, 'rb'))\n",
    "img.image.save(\"file_name.jpg\", f)"
   ]
  },
  {
   "cell_type": "code",
   "execution_count": 8,
   "metadata": {
    "collapsed": false
   },
   "outputs": [
    {
     "data": {
      "text/plain": [
       "'adidas.jpg'"
      ]
     },
     "execution_count": 8,
     "metadata": {},
     "output_type": "execute_result"
    }
   ],
   "source": [
    "all_img[0]"
   ]
  },
  {
   "cell_type": "code",
   "execution_count": 9,
   "metadata": {
    "collapsed": false
   },
   "outputs": [
    {
     "data": {
      "text/plain": [
       "<Image: Image object>"
      ]
     },
     "execution_count": 9,
     "metadata": {},
     "output_type": "execute_result"
    }
   ],
   "source": [
    "img"
   ]
  },
  {
   "cell_type": "code",
   "execution_count": 10,
   "metadata": {
    "collapsed": false
   },
   "outputs": [
    {
     "name": "stdout",
     "output_type": "stream",
     "text": [
      "..\\materials\\bert\\adidas.jpg\n",
      "..\\materials\\bert\\alice_big.jpg\n",
      "..\\materials\\bert\\alien.jpg\n",
      "..\\materials\\bert\\animals.jpg\n",
      "..\\materials\\bert\\apple.jpg\n",
      "..\\materials\\bert\\ass.jpg\n",
      "..\\materials\\bert\\bang.jpg\n",
      "..\\materials\\bert\\batman.jpg\n",
      "..\\materials\\bert\\bear.jpg\n",
      "..\\materials\\bert\\beer.jpg\n",
      "..\\materials\\bert\\blackgold_marble.jpg\n",
      "..\\materials\\bert\\black_marble.jpg\n",
      "..\\materials\\bert\\blue_1.jpg\n",
      "..\\materials\\bert\\blue_fabric.jpg\n",
      "..\\materials\\bert\\breakfast.jpg\n",
      "..\\materials\\bert\\bringit.jpg\n",
      "..\\materials\\bert\\bunny_1.jpg\n",
      "..\\materials\\bert\\burberry_1.jpg\n",
      "..\\materials\\bert\\burberry_2.png\n",
      "..\\materials\\bert\\cactus.jpg\n",
      "..\\materials\\bert\\cactus2.jpg\n",
      "..\\materials\\bert\\cat.jpg\n",
      "..\\materials\\bert\\cat_1.png\n",
      "..\\materials\\bert\\cat_2.jpg\n",
      "..\\materials\\bert\\cat_3.jpg\n",
      "..\\materials\\bert\\cat_4.jpg\n",
      "..\\materials\\bert\\chanel.jpg\n",
      "..\\materials\\bert\\christmas_1.jpg\n",
      "..\\materials\\bert\\city_8bit.png\n",
      "..\\materials\\bert\\cloud_cartoon.jpg\n",
      "..\\materials\\bert\\cloud_purple.jpg\n",
      "..\\materials\\bert\\cupcake_rainbow.jpg\n",
      "..\\materials\\bert\\dear_dot.png\n",
      "..\\materials\\bert\\dog_1.jpg\n",
      "..\\materials\\bert\\donut_pink.jpg\n",
      "..\\materials\\bert\\donut_withe.jpg\n",
      "..\\materials\\bert\\draw_1.png\n",
      "..\\materials\\bert\\draw_2.png\n",
      "..\\materials\\bert\\draw_3.png\n",
      "..\\materials\\bert\\draw_4.png\n",
      "..\\materials\\bert\\eggs.jpg\n",
      "..\\materials\\bert\\food_8bit.jpg\n",
      "..\\materials\\bert\\food_mc.jpg\n",
      "..\\materials\\bert\\forest.jpg\n",
      "..\\materials\\bert\\frenchfries.jpg\n",
      "..\\materials\\bert\\fuji.jpg\n",
      "..\\materials\\bert\\fxxk.jpg\n",
      "..\\materials\\bert\\galaxy_1.jpg\n",
      "..\\materials\\bert\\galaxy_2.png\n",
      "..\\materials\\bert\\galaxy_3.jpg\n",
      "..\\materials\\bert\\galaxy_4.jpg\n",
      "..\\materials\\bert\\galaxy_5.jpg\n",
      "..\\materials\\bert\\galaxy_6.jpg\n",
      "..\\materials\\bert\\galaxy_7.jpg\n",
      "..\\materials\\bert\\ghost_1.jpg\n",
      "..\\materials\\bert\\ghost_2.jpg\n",
      "..\\materials\\bert\\godzilla.jpg\n",
      "..\\materials\\bert\\golden_marble.jpg\n",
      "..\\materials\\bert\\grid_black.jpg\n",
      "..\\materials\\bert\\grid_yellow.jpg\n",
      "..\\materials\\bert\\he.jpg\n",
      "..\\materials\\bert\\heart_8bit.jpg\n",
      "..\\materials\\bert\\hologram_1.jpg\n",
      "..\\materials\\bert\\hologram_2.jpg\n",
      "..\\materials\\bert\\hologram_3.jpg\n",
      "..\\materials\\bert\\hologram_4.jpg\n",
      "..\\materials\\bert\\ice.jpg\n",
      "..\\materials\\bert\\icecream_mint.jpg\n",
      "..\\materials\\bert\\icecream_pink.jpg\n",
      "..\\materials\\bert\\louis-vuitton.jpg\n",
      "..\\materials\\bert\\lv.jpg\n",
      "..\\materials\\bert\\marble_black.jpg\n",
      "..\\materials\\bert\\marble_white.jpg\n",
      "..\\materials\\bert\\mickey_1.jpg\n",
      "..\\materials\\bert\\mickey_2.jpg\n",
      "..\\materials\\bert\\Mountian.jpg\n",
      "..\\materials\\bert\\nike.jpg\n",
      "..\\materials\\bert\\nutella.jpg\n",
      "..\\materials\\bert\\ocean.jpg\n",
      "..\\materials\\bert\\oreo.jpg\n",
      "..\\materials\\bert\\panda.jpg\n",
      "..\\materials\\bert\\PANTONE_pinkblue.jpg\n",
      "..\\materials\\bert\\PANTONE_purple.jpg\n",
      "..\\materials\\bert\\penguin_big.png\n",
      "..\\materials\\bert\\photothumb.db\n",
      "..\\materials\\bert\\pineapple_1.jpg\n",
      "..\\materials\\bert\\pineapple_2.jpg\n",
      "..\\materials\\bert\\pizza.jpg\n",
      "..\\materials\\bert\\plain_blue.jpg\n",
      "..\\materials\\bert\\plain_crimsonred.jpg\n",
      "..\\materials\\bert\\plain_dark.jpg\n",
      "..\\materials\\bert\\plain_darkblue.jpg\n",
      "..\\materials\\bert\\plain_iceberg.jpg\n",
      "..\\materials\\bert\\plain_mint.jpg\n",
      "..\\materials\\bert\\plain_orange.jpg\n",
      "..\\materials\\bert\\plain_pistachio.jpg\n",
      "..\\materials\\bert\\plain_purple.jpg\n",
      "..\\materials\\bert\\plain_red.jpg\n",
      "..\\materials\\bert\\plain_rosered.jpg\n",
      "..\\materials\\bert\\plain_silver.jpg\n",
      "..\\materials\\bert\\plain_white.jpg\n",
      "..\\materials\\bert\\plain_yellow.jpg\n",
      "..\\materials\\bert\\pokemon_1.jpg\n",
      "..\\materials\\bert\\pokemon_2.jpg\n",
      "..\\materials\\bert\\pokemon_3.png\n",
      "..\\materials\\bert\\pooh.jpg\n",
      "..\\materials\\bert\\popcorn.jpg\n",
      "..\\materials\\bert\\power_ranger.jpg\n",
      "..\\materials\\bert\\rawbear.jpg\n",
      "..\\materials\\bert\\rilakkuma_pink.jpg\n",
      "..\\materials\\bert\\rocket_paper.jpg\n",
      "..\\materials\\bert\\sea.jpg\n",
      "..\\materials\\bert\\sea2.png\n",
      "..\\materials\\bert\\shark_pastel.jpg\n",
      "..\\materials\\bert\\she.jpg\n",
      "..\\materials\\bert\\simpson_1.jpg\n",
      "..\\materials\\bert\\skull_blur.jpg\n",
      "..\\materials\\bert\\sky.jpg\n",
      "..\\materials\\bert\\sky2.jpg\n",
      "..\\materials\\bert\\sky_dark.jpg\n",
      "..\\materials\\bert\\smoke_blackwhite.jpg\n",
      "..\\materials\\bert\\smoke_dark.jpg\n",
      "..\\materials\\bert\\smoke_redblue.jpg\n",
      "..\\materials\\bert\\smoke_silverred.jpg\n",
      "..\\materials\\bert\\smore.jpg\n",
      "..\\materials\\bert\\smore2.jpg\n",
      "..\\materials\\bert\\snowfall.jpg\n",
      "..\\materials\\bert\\spongebob_1.jpg\n",
      "..\\materials\\bert\\spongebob_2.jpg\n",
      "..\\materials\\bert\\starbucks_brown.jpg\n",
      "..\\materials\\bert\\starbucks_pink.jpg\n",
      "..\\materials\\bert\\starwar_1.jpg\n",
      "..\\materials\\bert\\starwar_2.jpg\n",
      "..\\materials\\bert\\starwar_3.jpg\n",
      "..\\materials\\bert\\superman.jpg\n",
      "..\\materials\\bert\\supreme.jpg\n",
      "..\\materials\\bert\\sushi.jpg\n",
      "..\\materials\\bert\\taro_green.jpg\n",
      "..\\materials\\bert\\turtle_ninja.jpg\n",
      "..\\materials\\bert\\underwater.jpg\n",
      "..\\materials\\bert\\unicorn_blue.jpg\n",
      "..\\materials\\bert\\univers11.jpg.jpg\n",
      "..\\materials\\bert\\universe.jpg\n",
      "..\\materials\\bert\\universe10.jpg.jpg\n",
      "..\\materials\\bert\\universe12.jpg.jpg\n",
      "..\\materials\\bert\\universe13.jpg.jpg\n",
      "..\\materials\\bert\\universe2.jpg\n",
      "..\\materials\\bert\\universe3.jpg\n",
      "..\\materials\\bert\\universe4.jpg\n",
      "..\\materials\\bert\\universe5.jpg.jpg\n",
      "..\\materials\\bert\\universe6.jpg.jpg\n",
      "..\\materials\\bert\\universe7.jpg.jpg\n",
      "..\\materials\\bert\\universe8.jpg.jpg\n",
      "..\\materials\\bert\\universe9.jpg.jpg\n",
      "..\\materials\\bert\\wavy_blue.jpg\n",
      "..\\materials\\bert\\we.jpg\n",
      "..\\materials\\bert\\whale.jpg\n",
      "..\\materials\\bert\\white_marble2.jpg\n",
      "..\\materials\\bert\\white_marble3.jpg\n"
     ]
    }
   ],
   "source": [
    "for i in all_img:\n",
    "    pic=os.path.join(path,i)\n",
    "    print pic"
   ]
  },
  {
   "cell_type": "code",
   "execution_count": 7,
   "metadata": {
    "collapsed": false
   },
   "outputs": [],
   "source": [
    "from django.core.files import File\n",
    "for i in all_img:\n",
    "    pic=os.path.join(path,i)\n",
    "    img=Image(description=\"some text\")\n",
    "    f=File(open( pic, 'rb'))\n",
    "    img.image.save(\"file_name.jpg\", f)"
   ]
  },
  {
   "cell_type": "code",
   "execution_count": 20,
   "metadata": {
    "collapsed": true
   },
   "outputs": [],
   "source": [
    "from django.contrib.sessions.models import Session\n",
    "from django.contrib.sessions.backends.db import SessionStore"
   ]
  },
  {
   "cell_type": "code",
   "execution_count": 29,
   "metadata": {
    "collapsed": false
   },
   "outputs": [
    {
     "data": {
      "text/plain": [
       "[<Session: qvbg3fwagxiolei3jqf97x6adegf0m47>, <Session: 1ot2jyvzuf9mmzuxwsjqxrg1mo6p8dk3>, <Session: j82rh01y9kge2qd1u8lir6ymd8ucv7mn>, <Session: pg65x3dwbzbfuxw39hxse3uzg20ui38b>]"
      ]
     },
     "execution_count": 29,
     "metadata": {},
     "output_type": "execute_result"
    }
   ],
   "source": [
    "Session.objects.all()"
   ]
  },
  {
   "cell_type": "code",
   "execution_count": 30,
   "metadata": {
    "collapsed": false
   },
   "outputs": [
    {
     "name": "stdout",
     "output_type": "stream",
     "text": [
      "{u'_auth_user_hash': u'a257181447f756915cb4cce921880daf503bc87d', u'_auth_user_id': u'2', u'_auth_user_backend': u'django.contrib.auth.backends.ModelBackend'}\n",
      "{u'_auth_user_hash': u'a257181447f756915cb4cce921880daf503bc87d', u'_auth_user_id': u'2', u'_auth_user_backend': u'django.contrib.auth.backends.ModelBackend'}\n",
      "{u'_auth_user_hash': u'a257181447f756915cb4cce921880daf503bc87d', u'_auth_user_id': u'2', u'_auth_user_backend': u'django.contrib.auth.backends.ModelBackend'}\n",
      "{u'y': 25, u'x': 26, u'_auth_user_hash': u'a257181447f756915cb4cce921880daf503bc87d', u'_auth_user_id': u'2', u'_auth_user_backend': u'django.contrib.auth.backends.ModelBackend'}\n"
     ]
    }
   ],
   "source": [
    "for i in Session.objects.all():\n",
    "    print SessionStore().decode(i.session_data)"
   ]
  },
  {
   "cell_type": "code",
   "execution_count": 32,
   "metadata": {
    "collapsed": false
   },
   "outputs": [
    {
     "name": "stdout",
     "output_type": "stream",
     "text": [
      "{u'_auth_user_hash': u'a257181447f756915cb4cce921880daf503bc87d', u'_auth_user_id': u'2', u'_auth_user_backend': u'django.contrib.auth.backends.ModelBackend'}\n",
      "{u'_auth_user_hash': u'a257181447f756915cb4cce921880daf503bc87d', u'_auth_user_id': u'2', u'_auth_user_backend': u'django.contrib.auth.backends.ModelBackend'}\n",
      "{u'_auth_user_hash': u'a257181447f756915cb4cce921880daf503bc87d', u'_auth_user_id': u'2', u'_auth_user_backend': u'django.contrib.auth.backends.ModelBackend'}\n",
      "{u'y': 25, u'x': 26, u'_auth_user_hash': u'a257181447f756915cb4cce921880daf503bc87d', u'_auth_user_id': u'2', u'_auth_user_backend': u'django.contrib.auth.backends.ModelBackend'}\n"
     ]
    }
   ],
   "source": [
    "for session in Session.objects.all():\n",
    "    session_data = session.get_decoded()\n",
    "    print(session_data)"
   ]
  },
  {
   "cell_type": "code",
   "execution_count": 38,
   "metadata": {
    "collapsed": false
   },
   "outputs": [
    {
     "data": {
      "text/plain": [
       "[<Session: qvbg3fwagxiolei3jqf97x6adegf0m47>, <Session: 1ot2jyvzuf9mmzuxwsjqxrg1mo6p8dk3>, <Session: j82rh01y9kge2qd1u8lir6ymd8ucv7mn>, <Session: pg65x3dwbzbfuxw39hxse3uzg20ui38b>]"
      ]
     },
     "execution_count": 38,
     "metadata": {},
     "output_type": "execute_result"
    }
   ],
   "source": [
    "Session.objects.all()"
   ]
  },
  {
   "cell_type": "code",
   "execution_count": 39,
   "metadata": {
    "collapsed": false
   },
   "outputs": [
    {
     "data": {
      "text/plain": [
       "datetime.datetime(2017, 2, 15, 7, 47, 25, 81000, tzinfo=<UTC>)"
      ]
     },
     "execution_count": 39,
     "metadata": {},
     "output_type": "execute_result"
    }
   ],
   "source": [
    "a = Session.objects.get(pk='qvbg3fwagxiolei3jqf97x6adegf0m47')\n",
    "a.expire_date"
   ]
  },
  {
   "cell_type": "code",
   "execution_count": 40,
   "metadata": {
    "collapsed": false
   },
   "outputs": [
    {
     "data": {
      "text/plain": [
       "{u'_auth_user_backend': u'django.contrib.auth.backends.ModelBackend',\n",
       " u'_auth_user_hash': u'a257181447f756915cb4cce921880daf503bc87d',\n",
       " u'_auth_user_id': u'2'}"
      ]
     },
     "execution_count": 40,
     "metadata": {},
     "output_type": "execute_result"
    }
   ],
   "source": [
    "a.get_decoded()"
   ]
  },
  {
   "cell_type": "code",
   "execution_count": 41,
   "metadata": {
    "collapsed": false
   },
   "outputs": [
    {
     "data": {
      "text/plain": [
       "u'ODBiYWM4NjMzYTk0ZTA1ODU4NTcxYjkyNzY5OGQ5YjAxOTFmN2I2MDp7Il9hdXRoX3VzZXJfaGFzaCI6ImEyNTcxODE0NDdmNzU2OTE1Y2I0Y2NlOTIxODgwZGFmNTAzYmM4N2QiLCJfYXV0aF91c2VyX2JhY2tlbmQiOiJkamFuZ28uY29udHJpYi5hdXRoLmJhY2tlbmRzLk1vZGVsQmFja2VuZCIsIl9hdXRoX3VzZXJfaWQiOiIyIn0='"
      ]
     },
     "execution_count": 41,
     "metadata": {},
     "output_type": "execute_result"
    }
   ],
   "source": [
    "a.session_data"
   ]
  },
  {
   "cell_type": "code",
   "execution_count": null,
   "metadata": {
    "collapsed": true
   },
   "outputs": [],
   "source": []
  }
 ],
 "metadata": {
  "anaconda-cloud": {},
  "kernelspec": {
   "display_name": "Django Shell-Plus",
   "language": "python",
   "name": "django_extensions"
  },
  "language_info": {
   "codemirror_mode": {
    "name": "ipython",
    "version": 2
   },
   "file_extension": ".py",
   "mimetype": "text/x-python",
   "name": "python",
   "nbconvert_exporter": "python",
   "pygments_lexer": "ipython2",
   "version": "2.7.13"
  }
 },
 "nbformat": 4,
 "nbformat_minor": 1
}
