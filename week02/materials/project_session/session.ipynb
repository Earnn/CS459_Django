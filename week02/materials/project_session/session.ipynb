{
 "cells": [
  {
   "cell_type": "markdown",
   "metadata": {},
   "source": [
    "# session\n",
    "more detail at \n",
    "* https://docs.djangoproject.com/en/1.10/ref/settings/#std:setting-SESSION_ENGINE\n",
    "* http://djangobook.com/django-sessions/\n"
   ]
  },
  {
   "cell_type": "code",
   "execution_count": 6,
   "metadata": {
    "collapsed": false
   },
   "outputs": [],
   "source": [
    "from django.contrib.sessions.models import Session\n",
    "from django.contrib.sessions.backends.db import SessionStore"
   ]
  },
  {
   "cell_type": "code",
   "execution_count": 7,
   "metadata": {
    "collapsed": false
   },
   "outputs": [
    {
     "data": {
      "text/plain": [
       "[<Session: h5364z3q0cf3qihf6i46k8t9u0j5mo3z>, <Session: 72uvyi9u0zpnqci7pv3sgcu4n57xgqp6>, <Session: vpx18rlsi5fpjdwfifin6kvp7xd65kzh>, <Session: 3dvj8qxtbn7wd7w447vdio4wsb6ie9zv>, <Session: mixp5t9vha8fep6vcdnbxo2l9dayd5r1>, <Session: qpxa5ash1b7tw8supx82tpdmhz13uz5a>, <Session: nyxxywp3ai83dyhwo2ur27iuxugfylop>, <Session: ec4rr2ovke8zdwxiampnwhh5z0rc8w1k>, <Session: 4lmx8lbkni5g901ycwbyhlg4o3skq50v>, <Session: 724pw7l5uko3kn2cpm17wk8cbbo5q0j3>, <Session: n5p6ufyb7x2mmvypk0cvj0m9ax1u6nhh>, <Session: 2dbo3rm6upa8h0swtbsl7d9u7wkib105>, <Session: lun8azthyc3o8pbugs89opd60d6k0sri>, <Session: uypejlv7ke8hekanef005prtv8tu3242>, <Session: wf7w7nticndihrl5d1hfg56nlv6t0fzt>, <Session: ni20q8aojh6n29qzs6kqrfrd4k0njqnu>, <Session: 9wb6v5xsdpgzgsfjylglrbd45vk12dbr>, <Session: p62p8w0a0eh1yuu1bhb8w5szyis9n2nu>, <Session: mjeol6fsl7w3kipg99qycegvwjcatjz8>, <Session: 3us1nt4of9wm5rbmlsjur4n3ryz83y6f>, '...(remaining elements truncated)...']"
      ]
     },
     "execution_count": 7,
     "metadata": {},
     "output_type": "execute_result"
    }
   ],
   "source": [
    "Session.objects.all()"
   ]
  },
  {
   "cell_type": "code",
   "execution_count": 8,
   "metadata": {
    "collapsed": false
   },
   "outputs": [
    {
     "data": {
      "text/plain": [
       "datetime.datetime(2017, 2, 3, 8, 44, 18, 724000, tzinfo=<UTC>)"
      ]
     },
     "execution_count": 8,
     "metadata": {},
     "output_type": "execute_result"
    }
   ],
   "source": [
    "s=Session.objects.last()\n",
    "s.expire_date"
   ]
  },
  {
   "cell_type": "code",
   "execution_count": null,
   "metadata": {
    "collapsed": false
   },
   "outputs": [],
   "source": []
  },
  {
   "cell_type": "code",
   "execution_count": 20,
   "metadata": {
    "collapsed": false
   },
   "outputs": [],
   "source": [
    "x=SessionStore().decode(s.session_data)"
   ]
  },
  {
   "cell_type": "code",
   "execution_count": 21,
   "metadata": {
    "collapsed": false
   },
   "outputs": [
    {
     "data": {
      "text/plain": [
       "{u'_session_expiry': 10, u'x': 1, u'y': 1}"
      ]
     },
     "execution_count": 21,
     "metadata": {},
     "output_type": "execute_result"
    }
   ],
   "source": [
    "x"
   ]
  },
  {
   "cell_type": "code",
   "execution_count": 17,
   "metadata": {
    "collapsed": false
   },
   "outputs": [
    {
     "name": "stdout",
     "output_type": "stream",
     "text": [
      "{u'y': 8, u'x': 8, u'_session_expiry': 5}\n",
      "{u'y': 1, u'x': 1, u'_session_expiry': 5}\n",
      "{u'y': 4, u'x': 4, u'_session_expiry': 5}\n",
      "{u'y': 3, u'x': 3, u'_session_expiry': 5}\n",
      "{u'y': 7, u'x': 7, u'_session_expiry': 5}\n",
      "{u'y': 6, u'x': 6, u'_session_expiry': 5}\n",
      "{u'y': 1, u'x': 1, u'_session_expiry': 5}\n",
      "{u'y': 1, u'x': 1, u'_session_expiry': 10}\n",
      "{u'y': 1, u'x': 1, u'_session_expiry': 10}\n",
      "{u'y': 1, u'x': 1, u'_session_expiry': 10}\n",
      "{u'y': 1, u'x': 1, u'_session_expiry': 10}\n",
      "{u'y': 1, u'x': 1, u'_session_expiry': 10}\n",
      "{u'y': 1, u'x': 1, u'_session_expiry': 10}\n",
      "{u'y': 3, u'x': 3, u'_session_expiry': 10}\n",
      "{u'y': 2, u'x': 2, u'_session_expiry': 10}\n",
      "{u'y': 2, u'x': 2, u'_session_expiry': 10}\n",
      "{u'y': 3, u'x': 3, u'_session_expiry': 10}\n",
      "{u'y': 1, u'x': 1, u'_session_expiry': 10}\n",
      "{u'y': 1, u'x': 1, u'_session_expiry': 10}\n",
      "{u'y': 1, u'x': 1, u'_session_expiry': 10}\n",
      "{u'y': 3, u'x': 3, u'_session_expiry': 10}\n",
      "{u'y': 1, u'x': 1, u'_session_expiry': 10}\n",
      "{u'y': 5, u'x': 5, u'_session_expiry': 10}\n",
      "{u'y': 11, u'x': 1, u'_session_expiry': 10}\n",
      "{u'y': 1, u'x': 1, u'_session_expiry': 10}\n",
      "{u'y': 1, u'x': 1, u'_session_expiry': 10}\n",
      "{u'y': 11, u'x': 11, u'_session_expiry': 10}\n",
      "{u'y': 9, u'x': 9, u'_session_expiry': 10}\n",
      "{u'y': 2, u'x': 1, u'_session_expiry': 10}\n",
      "{u'y': 1, u'x': 1, u'_session_expiry': 10}\n",
      "{u'y': 1, u'x': 1, u'_session_expiry': 10}\n",
      "{u'y': 5, u'x': 1, u'_session_expiry': 10}\n",
      "{u'y': 1, u'x': 1, u'_session_expiry': 10}\n",
      "{u'y': 1, u'x': 1, u'_session_expiry': 10}\n",
      "{u'y': 1, u'x': 1, u'_session_expiry': 10}\n",
      "{u'y': 3, u'x': 1, u'_session_expiry': 10}\n",
      "{u'y': 6, u'x': 1, u'_session_expiry': 10}\n",
      "{u'y': 8, u'x': 8, u'_session_expiry': 10}\n",
      "{u'y': 1, u'x': 1, u'_session_expiry': 10}\n",
      "{u'y': 1, u'x': 1, u'_session_expiry': 10}\n",
      "{u'y': 1, u'x': 1, u'_session_expiry': 10}\n",
      "{u'y': 1, u'x': 1, u'_session_expiry': 10}\n",
      "{u'y': 3, u'x': 1, u'_session_expiry': 10}\n",
      "{u'y': 3, u'x': 1, u'_session_expiry': 10}\n",
      "{u'y': 2, u'x': 2, u'_session_expiry': 10}\n",
      "{u'y': 1, u'x': 1, u'_session_expiry': 10}\n",
      "{u'y': 1, u'x': 1, u'_session_expiry': 10}\n",
      "{u'y': 1, u'x': 1, u'_session_expiry': 10}\n"
     ]
    }
   ],
   "source": [
    "for i in Session.objects.all():\n",
    "    print SessionStore().decode(i.session_data)"
   ]
  },
  {
   "cell_type": "code",
   "execution_count": 14,
   "metadata": {
    "collapsed": true
   },
   "outputs": [],
   "source": [
    "for i in Session.objects.all():\n",
    "     i.get_decoded()"
   ]
  },
  {
   "cell_type": "code",
   "execution_count": 16,
   "metadata": {
    "collapsed": false
   },
   "outputs": [],
   "source": [
    "for i in Session.objects.all():\n",
    "     i.session_data"
   ]
  },
  {
   "cell_type": "code",
   "execution_count": 21,
   "metadata": {
    "collapsed": false
   },
   "outputs": [
    {
     "data": {
      "text/plain": [
       "datetime.datetime(2017, 2, 2, 19, 36, 5, 986000, tzinfo=<UTC>)"
      ]
     },
     "execution_count": 21,
     "metadata": {},
     "output_type": "execute_result"
    }
   ],
   "source": [
    "e = Session.objects.get(pk='p62p8w0a0eh1yuu1bhb8w5szyis9n2nu')\n",
    "e.expire_date"
   ]
  },
  {
   "cell_type": "code",
   "execution_count": 22,
   "metadata": {
    "collapsed": false
   },
   "outputs": [
    {
     "data": {
      "text/plain": [
       "u'ZWE4ZmFjZmY2NWY4NzdiNzY1YTNiM2EzZWFmNWU0MmE2MDZhYjRjZTp7InkiOjEsIngiOjEsIl9zZXNzaW9uX2V4cGlyeSI6MTB9'"
      ]
     },
     "execution_count": 22,
     "metadata": {},
     "output_type": "execute_result"
    }
   ],
   "source": [
    "e.session_data"
   ]
  },
  {
   "cell_type": "code",
   "execution_count": 23,
   "metadata": {
    "collapsed": false
   },
   "outputs": [
    {
     "data": {
      "text/plain": [
       "{u'_session_expiry': 10, u'x': 1, u'y': 1}"
      ]
     },
     "execution_count": 23,
     "metadata": {},
     "output_type": "execute_result"
    }
   ],
   "source": [
    "e.get_decoded()"
   ]
  },
  {
   "cell_type": "code",
   "execution_count": 30,
   "metadata": {
    "collapsed": false
   },
   "outputs": [
    {
     "data": {
      "text/plain": [
       "datetime.datetime(2017, 2, 2, 19, 33, 0, 333000, tzinfo=<UTC>)"
      ]
     },
     "execution_count": 30,
     "metadata": {},
     "output_type": "execute_result"
    }
   ],
   "source": [
    "a = Session.objects.get(pk='ni20q8aojh6n29qzs6kqrfrd4k0njqnu')\n",
    "a.expire_date"
   ]
  },
  {
   "cell_type": "code",
   "execution_count": 31,
   "metadata": {
    "collapsed": false
   },
   "outputs": [
    {
     "data": {
      "text/plain": [
       "{u'_session_expiry': 10, u'x': 2, u'y': 2}"
      ]
     },
     "execution_count": 31,
     "metadata": {},
     "output_type": "execute_result"
    }
   ],
   "source": [
    "a.get_decoded()"
   ]
  },
  {
   "cell_type": "code",
   "execution_count": 32,
   "metadata": {
    "collapsed": false
   },
   "outputs": [
    {
     "data": {
      "text/plain": [
       "u'YTE5Yjg1MGNlM2RkOWM1MzRlNzM1MDU2MTU5NmY5Njg5YTkzZTExODp7InkiOjIsIngiOjIsIl9zZXNzaW9uX2V4cGlyeSI6MTB9'"
      ]
     },
     "execution_count": 32,
     "metadata": {},
     "output_type": "execute_result"
    }
   ],
   "source": [
    "a.session_data"
   ]
  },
  {
   "cell_type": "code",
   "execution_count": null,
   "metadata": {
    "collapsed": true
   },
   "outputs": [],
   "source": []
  }
 ],
 "metadata": {
  "anaconda-cloud": {},
  "kernelspec": {
   "display_name": "Django Shell-Plus",
   "language": "python",
   "name": "django_extensions"
  },
  "language_info": {
   "codemirror_mode": {
    "name": "ipython",
    "version": 2
   },
   "file_extension": ".py",
   "mimetype": "text/x-python",
   "name": "python",
   "nbconvert_exporter": "python",
   "pygments_lexer": "ipython2",
   "version": "2.7.13"
  }
 },
 "nbformat": 4,
 "nbformat_minor": 1
}
